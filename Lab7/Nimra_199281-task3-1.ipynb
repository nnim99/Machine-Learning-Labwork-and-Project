{
 "cells": [
  {
   "cell_type": "code",
   "execution_count": 1,
   "metadata": {},
   "outputs": [],
   "source": [
    "import numpy as np\n",
    "\n"
   ]
  },
  {
   "cell_type": "code",
   "execution_count": 2,
   "metadata": {},
   "outputs": [],
   "source": [
    "# sigmoid function\n",
    "def nonlin(x,deriv=False):\n",
    "    if(deriv==True):\n",
    "        return x*(1-x)\n",
    "    return 1/(1+np.exp(-x))"
   ]
  },
  {
   "cell_type": "code",
   "execution_count": 3,
   "metadata": {},
   "outputs": [],
   "source": [
    "# input dataset\n",
    "X = np.array([  [0,0,1],[0,1,1],[1,0,1],[1,1,1] ])\n"
   ]
  },
  {
   "cell_type": "code",
   "execution_count": 4,
   "metadata": {},
   "outputs": [],
   "source": [
    "# output dataset            \n",
    "y = np.array([[0,1,1,0]]).T\n"
   ]
  },
  {
   "cell_type": "code",
   "execution_count": 5,
   "metadata": {},
   "outputs": [],
   "source": [
    "import random \n",
    "\n",
    "# seed random numbers to make calculation\n",
    "# deterministic (just a good practice)\n",
    "np.random.seed(1)\n"
   ]
  },
  {
   "cell_type": "code",
   "execution_count": 6,
   "metadata": {},
   "outputs": [
    {
     "name": "stdout",
     "output_type": "stream",
     "text": [
      "Output After Training at layer 1:\n",
      "[[9.07263932e-01 9.61977170e-02 9.64654253e-01 9.99869308e-01]\n",
      " [1.49985061e-01 1.86169359e-04 1.25827572e-02 9.29505654e-01]\n",
      " [9.99565166e-01 9.29153816e-01 1.05049266e-02 9.59566598e-01]\n",
      " [9.76448166e-01 2.24293677e-02 4.95698752e-06 3.92942373e-02]]\n",
      "Output After Training:\n",
      "[[0.00255294 0.00256757 0.00255818]\n",
      " [0.9977176  0.99768446 0.99769708]\n",
      " [0.99679475 0.99679831 0.99680117]\n",
      " [0.00371969 0.00371154 0.00371196]]\n"
     ]
    }
   ],
   "source": [
    "# initialize weights randomly with mean 0\n",
    "syn0 = 2*np.random.random((3,4)) -1 #hidden layers has 4 input i-e 4 nodes so our nueral network maps from 3 to 4\n",
    "syn1 = 2*np.random.random((4,3)) -1 \n",
    "\n",
    "for iter in range(60000):\n",
    "\n",
    "    l0 = X\n",
    "\n",
    "    l1 = nonlin(np.dot(l0,syn0))\n",
    "\n",
    "    l2 = nonlin(np.dot(l1,syn1))\n",
    "\n",
    "    l2_error = y - l2\n",
    "\n",
    "    l2_delta = l2_error*nonlin(l2,deriv=True)\n",
    "\n",
    "    l1_error = l2_delta.dot(syn1.T)\n",
    "\n",
    "    l1_delta = l1_error * nonlin(l1,deriv=True)\n",
    "\n",
    "    syn1 += l1.T.dot(l2_delta)\n",
    "\n",
    "    syn0 += l0.T.dot(l1_delta)\n",
    "\n",
    "print (\"Output After Training at layer 1:\")\n",
    "print (l1)\n",
    "print (\"Output After Training:\")\n",
    "print (l2)\n"
   ]
  },
  {
   "cell_type": "code",
   "execution_count": null,
   "metadata": {},
   "outputs": [],
   "source": []
  },
  {
   "cell_type": "code",
   "execution_count": null,
   "metadata": {},
   "outputs": [],
   "source": []
  },
  {
   "cell_type": "code",
   "execution_count": null,
   "metadata": {},
   "outputs": [],
   "source": []
  },
  {
   "cell_type": "code",
   "execution_count": null,
   "metadata": {},
   "outputs": [],
   "source": []
  }
 ],
 "metadata": {
  "kernelspec": {
   "display_name": "Python 3",
   "language": "python",
   "name": "python3"
  },
  "language_info": {
   "codemirror_mode": {
    "name": "ipython",
    "version": 3
   },
   "file_extension": ".py",
   "mimetype": "text/x-python",
   "name": "python",
   "nbconvert_exporter": "python",
   "pygments_lexer": "ipython3",
   "version": "3.7.1"
  }
 },
 "nbformat": 4,
 "nbformat_minor": 2
}
