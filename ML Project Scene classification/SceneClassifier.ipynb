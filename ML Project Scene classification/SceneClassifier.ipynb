{
 "cells": [
  {
   "cell_type": "code",
   "execution_count": null,
   "metadata": {},
   "outputs": [],
   "source": []
  },
  {
   "cell_type": "code",
   "execution_count": null,
   "metadata": {},
   "outputs": [],
   "source": []
  },
  {
   "cell_type": "code",
   "execution_count": 1,
   "metadata": {},
   "outputs": [
    {
     "name": "stderr",
     "output_type": "stream",
     "text": [
      "Using TensorFlow backend.\n"
     ]
    }
   ],
   "source": [
    "from keras.models import Sequential\n",
    "from keras.layers import Dense, Dropout, Flatten\n",
    "from keras.layers import Conv2D, MaxPooling2D\n",
    "from keras.utils import to_categorical\n",
    "from keras.preprocessing import image\n",
    "import numpy as np\n",
    "import pandas as pd\n",
    "import matplotlib.pyplot as plt\n",
    "from sklearn.model_selection import train_test_split\n",
    "from keras.utils import to_categorical\n",
    "from tqdm import tqdm"
   ]
  },
  {
   "cell_type": "code",
   "execution_count": 2,
   "metadata": {},
   "outputs": [
    {
     "name": "stderr",
     "output_type": "stream",
     "text": [
      "100%|██████████| 439/439 [00:00<00:00, 812.13it/s]\n"
     ]
    }
   ],
   "source": [
    "train = pd.read_csv('train.csv')\n",
    "\n",
    "train_image = []\n",
    "for i in tqdm(range(train.shape[0])): #Shows the bar for completeness of images read\n",
    "    img = image.load_img('train/'+train['id'][i], target_size=(28,28,3), grayscale=False) #load images in RGB format\n",
    "    img = image.img_to_array(img) #image is converted to three dimentional array containing three values for each pixel and 28 by 28 pixels\n",
    "    img = img/255 #dividing by 255 for normalisation \n",
    "    train_image.append(img) #appending all images' arrays to one array\n",
    "X = np.array(train_image)"
   ]
  },
  {
   "cell_type": "code",
   "execution_count": 10,
   "metadata": {},
   "outputs": [],
   "source": [
    "y=train['label'].values\n",
    "y = to_categorical(y) #converts labels from array to binary matrix\n",
    "X_train, X_test, y_train, y_test = train_test_split(X, y, random_state=42, test_size=0.01)"
   ]
  },
  {
   "cell_type": "code",
   "execution_count": 11,
   "metadata": {
    "scrolled": true
   },
   "outputs": [],
   "source": [
    "model = Sequential()\n",
    "model.add(Conv2D(32, kernel_size=(3, 3),activation='relu',input_shape=(28,28,3)))\n",
    "model.add(Conv2D(64, (3, 3), activation='relu'))\n",
    "model.add(MaxPooling2D(pool_size=(2, 2)))\n",
    "model.add(Dropout(0.25))\n",
    "model.add(Flatten())\n",
    "model.add(Dense(128, activation='relu'))\n",
    "model.add(Dropout(0.5))\n",
    "model.add(Dense(6, activation='softmax'))"
   ]
  },
  {
   "cell_type": "code",
   "execution_count": 12,
   "metadata": {},
   "outputs": [],
   "source": [
    "model.compile(loss='categorical_crossentropy',optimizer='Adam',metrics=['accuracy'])"
   ]
  },
  {
   "cell_type": "code",
   "execution_count": 13,
   "metadata": {
    "scrolled": true
   },
   "outputs": [
    {
     "name": "stdout",
     "output_type": "stream",
     "text": [
      "Train on 434 samples, validate on 5 samples\n",
      "Epoch 1/5\n",
      "434/434 [==============================] - 3s 6ms/step - loss: 1.5109 - acc: 0.3825 - val_loss: 1.1162 - val_acc: 0.4000\n",
      "Epoch 2/5\n",
      "434/434 [==============================] - 1s 2ms/step - loss: 1.1645 - acc: 0.5484 - val_loss: 0.6778 - val_acc: 0.8000\n",
      "Epoch 3/5\n",
      "434/434 [==============================] - 1s 2ms/step - loss: 0.8989 - acc: 0.6452 - val_loss: 0.4803 - val_acc: 0.8000\n",
      "Epoch 4/5\n",
      "434/434 [==============================] - 1s 2ms/step - loss: 0.6828 - acc: 0.7650 - val_loss: 0.4207 - val_acc: 0.8000\n",
      "Epoch 5/5\n",
      "434/434 [==============================] - 1s 2ms/step - loss: 0.5815 - acc: 0.7834 - val_loss: 0.3548 - val_acc: 1.0000\n"
     ]
    },
    {
     "data": {
      "text/plain": [
       "<keras.callbacks.History at 0x1a38c94898>"
      ]
     },
     "execution_count": 13,
     "metadata": {},
     "output_type": "execute_result"
    }
   ],
   "source": [
    "model.fit(X_train, y_train, epochs=5, validation_data=(X_test, y_test))"
   ]
  },
  {
   "cell_type": "code",
   "execution_count": 14,
   "metadata": {},
   "outputs": [
    {
     "name": "stderr",
     "output_type": "stream",
     "text": [
      "100%|██████████| 33/33 [00:00<00:00, 648.90it/s]\n"
     ]
    }
   ],
   "source": [
    "test = pd.read_csv('test.csv')\n",
    "test_image = []\n",
    "for i in tqdm(range(test.shape[0])):\n",
    "    img = image.load_img('test/'+test['id'][i], target_size=(28,28,3), grayscale=False)\n",
    "    img = image.img_to_array(img)\n",
    "    img = img/255\n",
    "    test_image.append(img)\n",
    "test = np.array(test_image)"
   ]
  },
  {
   "cell_type": "code",
   "execution_count": 15,
   "metadata": {},
   "outputs": [],
   "source": [
    "prediction = model.predict_classes(test)"
   ]
  },
  {
   "cell_type": "code",
   "execution_count": 16,
   "metadata": {},
   "outputs": [
    {
     "name": "stdout",
     "output_type": "stream",
     "text": [
      "1  Mountain\n",
      "2  Mountain\n",
      "3  Mountain\n",
      "4  Mountain\n",
      "5  Mountain\n",
      "6  Mountain\n",
      "7  Mountain\n",
      "8  Mountain\n",
      "9  House\n",
      "10  House\n",
      "11  House\n",
      "12  House\n",
      "13  House\n",
      "14  Ocean\n",
      "15  Mountain\n",
      "16  Ocean\n",
      "17  Laptop\n",
      "18  Ocean\n",
      "19  Laptop\n",
      "20  Laptop\n",
      "21  Laptop\n",
      "22  Ocean\n",
      "23  Ocean\n",
      "24  Ocean\n",
      "25  Ocean\n",
      "26  Ocean\n",
      "27  Tree\n",
      "28  Mountain\n",
      "29  Tree\n",
      "30  Tree\n",
      "31  Tree\n",
      "32  Tree\n",
      "33  Tree\n"
     ]
    }
   ],
   "source": [
    "count = 0\n",
    "for i in prediction:\n",
    "    \n",
    "    count  += 1\n",
    "    if (i == 1):\n",
    "        print(count ,\" Mountain\")\n",
    "    if (i == 2):\n",
    "        print(count ,\" House\")\n",
    "    if (i == 3):\n",
    "        print(count ,\" Laptop\")\n",
    "    if (i == 4):\n",
    "        print(count ,\" Ocean\")\n",
    "    if (i == 5):\n",
    "        print(count ,\" Tree\")"
   ]
  },
  {
   "cell_type": "code",
   "execution_count": null,
   "metadata": {},
   "outputs": [],
   "source": []
  },
  {
   "cell_type": "code",
   "execution_count": null,
   "metadata": {},
   "outputs": [],
   "source": []
  }
 ],
 "metadata": {
  "kernelspec": {
   "display_name": "Python 3",
   "language": "python",
   "name": "python3"
  },
  "language_info": {
   "codemirror_mode": {
    "name": "ipython",
    "version": 3
   },
   "file_extension": ".py",
   "mimetype": "text/x-python",
   "name": "python",
   "nbconvert_exporter": "python",
   "pygments_lexer": "ipython3",
   "version": "3.7.1"
  }
 },
 "nbformat": 4,
 "nbformat_minor": 2
}
